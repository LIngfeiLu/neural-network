{
 "cells": [
  {
   "cell_type": "code",
   "execution_count": 9,
   "metadata": {
    "collapsed": true
   },
   "outputs": [],
   "source": [
    "import numpy as np\n",
    "import matplotlib.pyplot as plt\n",
    "import random\n",
    "get_ipython().magic(u'matplotlib inline')\n",
    "\n",
    "data = np.loadtxt('Q1_data.txt',  delimiter=\",\",converters={ 4: lambda s: {b'Iris-setosa': 1, b'Iris-versicolor': -1}[s]})\n",
    "X = data[:,0:4]\n",
    "Y = data[:,4]\n",
    "train_index = range(0,35)+range(50, 85)\n",
    "test_index = range(35, 50)+range(85, 100)\n",
    "trainx = X[train_index,:]\n",
    "trainy = Y[train_index]\n",
    "testx = X[test_index,:]\n",
    "testy = Y[test_index]\n",
    "\n",
    "w = np.array([0 for i in range(len(trainx[0]))])\n",
    "b = 0\n",
    "lamb = 1\n",
    "final_error = 1\n",
    "index = 0;\n",
    "errors = []\n",
    "\n",
    "def helper(trainx, trainy):\n",
    "    predict = []\n",
    "    cal = np.dot(trainx, w)+b;\n",
    "    for i in range(0, len(cal)):\n",
    "        if cal[i] >= 0:\n",
    "            predict.append(1)\n",
    "        else:\n",
    "            predict.append(-1)\n",
    "    accuracy = predict == trainy\n",
    "    return 1-sum(accuracy)/float(len(cal))\n",
    "\n",
    "while index < 100 and final_error != 0:\n",
    "    index = index+1\n",
    "    final_error = helper(trainx, trainy)\n",
    "    errors.append(final_error)\n",
    "    rand = random.randrange(0, len(trainx))\n",
    "    tmp = np.dot(w.T, trainx[rand])+b;\n",
    "    if(tmp>= 0):\n",
    "        predict = 1\n",
    "    else:\n",
    "        predict = -1\n",
    "        \n",
    "    if(predict == trainy[rand]):\n",
    "        continue\n",
    "    else:\n",
    "        w = w + lamb*(trainy[rand] - predict)*trainx[rand]\n",
    "        b = b + lamb*(trainy[rand] - predict)\n",
    "    \n",
    "    \n",
    "\n",
    "\n"
   ]
  },
  {
   "cell_type": "code",
   "execution_count": 10,
   "metadata": {},
   "outputs": [
    {
     "data": {
      "image/png": "[encoded data removed]",
      "text/plain": [
       "<matplotlib.figure.Figure at 0x10a37a210>"
      ]
     },
     "metadata": {},
     "output_type": "display_data"
    }
   ],
   "source": [
    "plt.plot([i for i in range(0, len(errors))], errors)\n",
    "plt.savefig('Q1.png')"
   ]
  },
  {
   "cell_type": "code",
   "execution_count": null,
   "metadata": {
    "collapsed": true
   },
   "outputs": [],
   "source": [
    "w"
   ]
  },
  {
   "cell_type": "code",
   "execution_count": null,
   "metadata": {
    "collapsed": true
   },
   "outputs": [],
   "source": [
    "b"
   ]
  },
  {
   "cell_type": "code",
   "execution_count": null,
   "metadata": {
    "collapsed": true
   },
   "outputs": [],
   "source": [
    "cal = np.dot(testx, w)+b\n",
    "predict = []\n",
    "for i in range(0, len(cal)):\n",
    "    if(cal[i] >= 0):\n",
    "        predict.append(1)\n",
    "    else:\n",
    "        predict.append(-1)\n",
    "accuracy = sum(predict == testy)/float(len(testx))\n",
    "predict = np.array(predict)\n",
    "true_pos=0;\n",
    "test_pos = (predict == 1).sum()\n",
    "condition_pos = (testy == 1).sum()\n",
    "for i in range(0,len(testy)):\n",
    "    if(testy[i] == 1 and predict[i] == 1):\n",
    "        true_pos = true_pos+1\n",
    "precision = float(true_pos)/test_pos\n",
    "recall = float(true_pos)/condition_pos\n",
    "F_value = 2*precision*recall/(precision+recall)"
   ]
  },
  {
   "cell_type": "code",
   "execution_count": null,
   "metadata": {
    "collapsed": true
   },
   "outputs": [],
   "source": [
    "accuracy"
   ]
  },
  {
   "cell_type": "code",
   "execution_count": null,
   "metadata": {
    "collapsed": true
   },
   "outputs": [],
   "source": [
    "precision"
   ]
  },
  {
   "cell_type": "code",
   "execution_count": null,
   "metadata": {
    "collapsed": true
   },
   "outputs": [],
   "source": [
    "recall"
   ]
  },
  {
   "cell_type": "code",
   "execution_count": null,
   "metadata": {
    "collapsed": true
   },
   "outputs": [],
   "source": [
    "F_value"
   ]
  },
  {
   "cell_type": "code",
   "execution_count": 13,
   "metadata": {
    "collapsed": true
   },
   "outputs": [],
   "source": [
    "import numpy as np\n",
    "import matplotlib.pyplot as plt\n",
    "import random\n",
    "get_ipython().magic(u'matplotlib inline')\n",
    "\n",
    "labels = ['Iris-versicolor', 'Iris-virginica']\n",
    "data = np.loadtxt('Q3_data.txt',  delimiter=\",\",converters={ 4: lambda s: (labels.index(s))})\n",
    "X = data[:,0:4]\n",
    "Y = data[:,4]\n",
    "\n",
    "train_range = range(15,50)+range(65,100)\n",
    "test_range = range(0,15)+range(50,65)\n",
    "trainx = X[train_range,:]\n",
    "trainy = Y[train_range]\n",
    "testx = X[test_range,:]\n",
    "testy = Y[test_range]\n",
    "(trainx[1,:]).T\n",
    "def func_P(x, w, b):\n",
    "    return 1.0/(1+np.exp(-(np.dot(w.T,x)+b)))\n",
    "\n",
    "def func_L(x, y, w, b):\n",
    "    L = 0\n",
    "    for i in range(0,len(Y)):\n",
    "        p = func_P(x, w, b)\n",
    "        L = L-Y[i]*np.log(p)+(1-Y[i])*np.log(1-p)\n",
    "    return L\n",
    "\n",
    "def derivative_by_w(x, y, w, b):\n",
    "    L = 0\n",
    "    for i in range(0, len(Y)):\n",
    "#         L = L+(func_P(X[i,:], w, b)-Y[i])*X[i,:]\n",
    "        L=L+(1-Y[i])*X[i,:]+func_P(X[i,:],w,b)*np.exp(-(np.dot(w.T, X[i,:]) + b))*(-X[i,:]) \n",
    "    return L\n",
    "\n",
    "def derivative_by_b(x, y, w, b):\n",
    "    b=0\n",
    "    for i in range(0, len(y)):\n",
    "        b=b+1-Y[i]+func_P(X[i,:],w,b)*np.exp(-(np.dot(w.T, X[i,:]) + b))*(-1) \n",
    "    return b\n",
    "\n",
    "def confidence(trainx, trainy, w, b):\n",
    "    predict = []\n",
    "    for i in range(0, len(trainy)):\n",
    "        val = func_P(trainx[i,:], w, b)\n",
    "        if(val >= 0.5):\n",
    "            predict.append(1)\n",
    "        else:\n",
    "            predict.append(0)\n",
    "    accuracy = sum(predict == trainy)/float(len(trainx))\n",
    "    return 1-accuracy\n",
    "\n",
    "w = np.full(())\n",
    "b = random.random()\n",
    "alpha = 0.01\n",
    "index = 0\n",
    "errors = []\n",
    "\n",
    "while index < 2000:\n",
    "    index = index+1\n",
    "    error = confidence(trainx, trainy, w, b)\n",
    "    errors.append(error)\n",
    "    w2 = w-alpha*derivative_by_w(trainx, trainy, w, b)\n",
    "    b = b-alpha*derivative_by_b(trainx, trainy, w, b)\n",
    "    w = w2"
   ]
  },
  {
   "cell_type": "code",
   "execution_count": 14,
   "metadata": {},
   "outputs": [
    {
     "data": {
      "image/png": "[encoded data removed]",
      "text/plain": [
       "<matplotlib.figure.Figure at 0x10a453a50>"
      ]
     },
     "metadata": {},
     "output_type": "display_data"
    }
   ],
   "source": [
    "plt.plot([x for x in range(0,len(errors))], errors)\n",
    "plt.savefig('./HW3_Q31.png')"
   ]
  },
  {
   "cell_type": "code",
   "execution_count": 20,
   "metadata": {},
   "outputs": [
    {
     "data": {
      "text/plain": [
       "array([  47.46983749,   25.76352532,  105.15316607,   63.7351363 ])"
      ]
     },
     "execution_count": 20,
     "metadata": {},
     "output_type": "execute_result"
    }
   ],
   "source": [
    "w"
   ]
  },
  {
   "cell_type": "code",
   "execution_count": 21,
   "metadata": {},
   "outputs": [
    {
     "data": {
      "text/plain": [
       "-989.27923771089445"
      ]
     },
     "execution_count": 21,
     "metadata": {},
     "output_type": "execute_result"
    }
   ],
   "source": [
    "b"
   ]
  },
  {
   "cell_type": "code",
   "execution_count": 15,
   "metadata": {
    "collapsed": true
   },
   "outputs": [],
   "source": [
    "predict=  []\n",
    "val = np.dot(testx,w)+b\n",
    "for i in range(0,len(testy)):\n",
    "    val = func_P(testx[i,:], w, b)\n",
    "    if(val >= 0.5):\n",
    "        predict.append(1)\n",
    "    else:\n",
    "        predict.append(0)\n",
    "predict = np.array(predict)\n",
    "accuracy = sum(predict == testy)/float(len(testx))\n",
    "error = 1-accuracy\n",
    "\n",
    "true_pos=0;\n",
    "test_pos = (predict == 1).sum()\n",
    "condition_pos = (testy == 1).sum()\n",
    "for i in range(0,len(testy)):\n",
    "    if testy[i]==1 and predict[i]==1:\n",
    "        true_pos=true_pos+1\n",
    "precision = float(true_pos)/test_pos\n",
    "recall = float(true_pos)/condition_pos\n",
    "F_value = 2*precision*recall/(precision+recall)"
   ]
  },
  {
   "cell_type": "code",
   "execution_count": 16,
   "metadata": {},
   "outputs": [
    {
     "data": {
      "text/plain": [
       "0.9285714285714286"
      ]
     },
     "execution_count": 16,
     "metadata": {},
     "output_type": "execute_result"
    }
   ],
   "source": [
    "precision"
   ]
  },
  {
   "cell_type": "code",
   "execution_count": 17,
   "metadata": {},
   "outputs": [
    {
     "data": {
      "text/plain": [
       "0.8666666666666667"
      ]
     },
     "execution_count": 17,
     "metadata": {},
     "output_type": "execute_result"
    }
   ],
   "source": [
    "recall"
   ]
  },
  {
   "cell_type": "code",
   "execution_count": 18,
   "metadata": {},
   "outputs": [
    {
     "data": {
      "text/plain": [
       "0.896551724137931"
      ]
     },
     "execution_count": 18,
     "metadata": {},
     "output_type": "execute_result"
    }
   ],
   "source": [
    "F_value"
   ]
  },
  {
   "cell_type": "code",
   "execution_count": 19,
   "metadata": {},
   "outputs": [
    {
     "data": {
      "text/plain": [
       "0.90000000000000002"
      ]
     },
     "execution_count": 19,
     "metadata": {},
     "output_type": "execute_result"
    }
   ],
   "source": [
    "accuracy"
   ]
  },
  {
   "cell_type": "code",
   "execution_count": 1,
   "metadata": {},
   "outputs": [
    {
     "data": {
      "image/png": "[encoded data removed]",
      "text/plain": [
       "<matplotlib.figure.Figure at 0x10a6038d0>"
      ]
     },
     "metadata": {},
     "output_type": "display_data"
    }
   ],
   "source": [
    "import numpy as np\n",
    "import matplotlib.pyplot as plt\n",
    "import random\n",
    "get_ipython().magic(u'matplotlib inline')\n",
    "\n",
    "labels = ['Iris-versicolor', 'Iris-virginica']\n",
    "data = np.loadtxt('Q3_data.txt',  delimiter=\",\",converters={ 4: lambda s: (labels.index(s))})\n",
    "x = data[:,0:4]\n",
    "y = data[:,4]\n",
    "\n",
    "training_indices = range(15,50) + range(65,100) \n",
    "test_indices = range(0,15) + range(50,65)\n",
    "trainx = x[training_indices,:]\n",
    "trainy = y[training_indices]\n",
    "testx = x[test_indices,:]\n",
    "testy = y[test_indices]\n",
    "\n",
    "\n",
    "# In[79]:\n",
    "\n",
    "\n",
    "(trainx[1,:]).T\n",
    "\n",
    "\n",
    "# In[111]:\n",
    "\n",
    "\n",
    "def sigmoid(x,w, b):\n",
    "    val =1.0/(1+np.exp(-(np.dot(w.T, x) + b)))\n",
    "    return val\n",
    "\n",
    "\n",
    "# In[82]:\n",
    "\n",
    "\n",
    "def L(x,y, w, b):\n",
    "    L=0\n",
    "    for i in range(0, len(y)):\n",
    "        p=sigmoid(x,w,b)\n",
    "        L=L-y[i]*np.log(p)+(1-y[i])*np.log(1-p)  \n",
    "    return L\n",
    "\n",
    "\n",
    "# In[118]:\n",
    "\n",
    "\n",
    "def derivativeL(x,y, wt, b):\n",
    "    L=0\n",
    "    for i in range(0, len(y)):\n",
    "        #print x[i,:]\n",
    "        L=L+(1-y[i])*x[i,:]+sigmoid(x[i,:],wt,b)*np.exp(-(np.dot(wt.T, x[i,:]) + b))*(-x[i,:]) \n",
    "    return L\n",
    "\n",
    "\n",
    "# In[119]:\n",
    "\n",
    "\n",
    "def derivativeB(x,y, wt, b):\n",
    "    b=0\n",
    "    for i in range(0, len(y)):\n",
    "        #print x[i,:]\n",
    "        b=b+1-y[i]+sigmoid(x[i,:],wt,b)*np.exp(-(np.dot(wt.T, x[i,:]) + b))*(-1) \n",
    "    return b\n",
    "\n",
    "\n",
    "# In[120]:\n",
    "\n",
    "\n",
    "def calError2(trainx, trainy, w, b):\n",
    "    pred =[]\n",
    "    for i in range(0,len(trainy)):\n",
    "        val = sigmoid(trainx[i,:], w,b)\n",
    "        if val>=0.5:\n",
    "            pred.append(1)\n",
    "        else:\n",
    "            pred.append(0)\n",
    "    \n",
    "    correct = pred == trainy\n",
    "    error = 1 - sum(correct) / float(len(trainx))\n",
    "    return error\n",
    "\n",
    "\n",
    "# In[124]:\n",
    "\n",
    "\n",
    "w = np.array([random.random() for i in range(len(trainx[0]))])\n",
    "b = random.random()\n",
    "alpha = 0.01\n",
    "j = 0\n",
    "errors = []\n",
    "\n",
    "while  j < 2000: \n",
    "    error_rate = calError2(trainx,trainy,w,b)\n",
    "    errors.append(error_rate)\n",
    "    j=j+1 \n",
    "    w2=w-alpha*derivativeL(trainx, trainy, w, b)\n",
    "    b=b-alpha*derivativeB(trainx, trainy, w, b)\n",
    "    w=w2\n",
    "\n",
    "\n",
    "# In[122]:\n",
    "\n",
    "\n",
    "w\n",
    "\n",
    "\n",
    "# In[126]:\n",
    "\n",
    "\n",
    "b\n",
    "\n",
    "\n",
    "# In[125]:\n",
    "\n",
    "\n",
    "plt.plot([x for x in range(0,len(errors))], errors)\n",
    "plt.savefig('./HW3_Q31.png')"
   ]
  },
  {
   "cell_type": "code",
   "execution_count": 2,
   "metadata": {},
   "outputs": [
    {
     "data": {
      "text/plain": [
       "array([ 31.75755531,  14.57687887,  75.29175009,  42.56623447])"
      ]
     },
     "execution_count": 2,
     "metadata": {},
     "output_type": "execute_result"
    }
   ],
   "source": [
    "w"
   ]
  },
  {
   "cell_type": "code",
   "execution_count": 3,
   "metadata": {},
   "outputs": [
    {
     "data": {
      "text/plain": [
       "-678.93254624108079"
      ]
     },
     "execution_count": 3,
     "metadata": {},
     "output_type": "execute_result"
    }
   ],
   "source": [
    "b"
   ]
  },
  {
   "cell_type": "code",
   "execution_count": null,
   "metadata": {
    "collapsed": true
   },
   "outputs": [],
   "source": []
  }
 ],
 "metadata": {
  "kernelspec": {
   "display_name": "Python 2",
   "language": "python",
   "name": "python2"
  },
  "language_info": {
   "codemirror_mode": {
    "name": "ipython",
    "version": 2
   },
   "file_extension": ".py",
   "mimetype": "text/x-python",
   "name": "python",
   "nbconvert_exporter": "python",
   "pygments_lexer": "ipython2",
   "version": "2.7.13"
  }
 },
 "nbformat": 4,
 "nbformat_minor": 2
}
