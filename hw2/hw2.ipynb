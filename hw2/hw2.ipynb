{
 "cells": [
  {
   "cell_type": "code",
   "execution_count": null,
   "metadata": {
    "collapsed": true
   },
   "outputs": [],
   "source": [
    "import numpy as np\n",
    "data_matrix = np.array([[8,8,16,4], [4,1,1,16], [6, 4, 4, 2], [4, 2, 4, 1], [8, 4, 8, 2]])\n",
    "label_matrix = np.array([1, -1, 1, -1, 1])\n",
    "W = np.array([1.2, 2, 0.5, 0.7])\n",
    "np.transpose(W);\n",
    "predict = np.dot(data_matrix, W)-20\n",
    "for i in range(0, len(predict)):\n",
    "    if predict[i] > 0:\n",
    "        predict[i] = 1\n",
    "    else:\n",
    "        predict[i] = -1\n",
    "print(predict)"
   ]
  },
  {
   "cell_type": "code",
   "execution_count": 1,
   "metadata": {},
   "outputs": [
    {
     "name": "stdout",
     "output_type": "stream",
     "text": [
      "[[ 14.35311332]]\n",
      "[[ 3.96995097]]\n"
     ]
    }
   ],
   "source": [
    "import matplotlib.pyplot as plt\n",
    "import numpy as np\n",
    "data = np.loadtxt('data.txt',dtype='float')\n",
    "x = data[:,0].reshape(len(data),1)\n",
    "y = data[:,1].reshape(len(data),1)\n",
    "plt.plot(x,y)\n",
    "plt.grid()\n",
    "X = np.hstack((np.ones((len(x),1)),np.power(x,1)))\n",
    "X2 = np.hstack((X,np.power(x,2)))\n",
    "X_t = X.transpose((1,0))\n",
    "X2_t = X2.transpose((1,0))\n",
    "sol = np.dot(np.linalg.inv(np.dot(X_t,X)),np.dot(X_t,y))\n",
    "sol2 = np.dot(np.linalg.inv(np.dot(X2_t,X2)),np.dot(X2_t,y))\n",
    "plt.plot(x,y)\n",
    "plt.plot(x,sol[0]+sol[1]*x)\n",
    "plt.plot(x,sol2[0]+sol2[1]*x+sol2[2]*x*x)\n",
    "plt.title('Least square line fitting')\n",
    "plt.xlabel('x')\n",
    "plt.ylabel('y')\n",
    "plt.savefig('./Q5.png')\n",
    "\n",
    "line_L2 = np.dot((np.dot(X,sol)-y).transpose(),np.dot(X,sol)-y) ** 0.5\n",
    "polynomial_L2 = np.dot((np.dot(X2,sol2)-y).transpose(),np.dot(X2,sol2)-y) ** 0.5\n",
    "print line_L2\n",
    "print polynomial_L2"
   ]
  },
  {
   "cell_type": "code",
   "execution_count": null,
   "metadata": {},
   "outputs": [],
   "source": [
    "import matplotlib.pyplot as plt\n",
    "import numpy as np\n",
    "data = np.loadtxt('data_2.txt',dtype='float')\n",
    "x = data[:,0].reshape(len(data),1)\n",
    "y = data[:,1].reshape(len(data),1)\n",
    "plt.plot(x,y)\n",
    "plt.grid()\n",
    "X = np.hstack((np.ones((len(x),1)),np.power(x,1)))\n",
    "X_t = X.transpose((1,0))\n",
    "sol = np.dot(np.linalg.inv(np.dot(X_t,X)),np.dot(X_t,y))\n",
    "W = np.array([[0], [0]])\n",
    "\n",
    "\n",
    "for i in range(0, 2000):\n",
    "    tmp = (np.dot(X, W)-y)\n",
    "    gradient = 0;\n",
    "    for j in range(0, len(tmp)):\n",
    "        if tmp[j][0] >= 0:\n",
    "            gradient += X[j];\n",
    "        else:\n",
    "            gradient -= X[j];\n",
    "    W_t = W.transpose((1,0)) - 0.00001*gradient\n",
    "    W = W_t.transpose((1,0));\n",
    "plt.plot(x,y)\n",
    "plt.plot(x, W[0]+W[1]*x)\n",
    "plt.plot(x,sol[0]+sol[1]*x)\n",
    "plt.title('Least square line fitting')\n",
    "plt.xlabel('x')\n",
    "plt.ylabel('y')\n",
    "plt.savefig('./Q6.png')\n",
    "        \n",
    "    \n",
    "    \n",
    "\n"
   ]
  },
  {
   "cell_type": "code",
   "execution_count": null,
   "metadata": {
    "collapsed": true
   },
   "outputs": [],
   "source": []
  }
 ],
 "metadata": {
  "kernelspec": {
   "display_name": "Python 2",
   "language": "python",
   "name": "python2"
  },
  "language_info": {
   "codemirror_mode": {
    "name": "ipython",
    "version": 2
   },
   "file_extension": ".py",
   "mimetype": "text/x-python",
   "name": "python",
   "nbconvert_exporter": "python",
   "pygments_lexer": "ipython2",
   "version": "2.7.13"
  }
 },
 "nbformat": 4,
 "nbformat_minor": 2
}
